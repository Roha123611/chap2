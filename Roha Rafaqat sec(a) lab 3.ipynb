{
 "cells": [
  {
   "cell_type": "markdown",
   "metadata": {},
   "source": [
    "# ROHARAFAQAT\n",
    "## lab3(pf)"
   ]
  },
  {
   "cell_type": "code",
   "execution_count": 2,
   "metadata": {},
   "outputs": [
    {
     "name": "stdout",
     "output_type": "stream",
     "text": [
      "sum is: 32\n",
      "difference is: -12\n",
      "product is: 220\n",
      "division is: 0.45454545454545453\n",
      "integer division is: 0\n",
      "raised to the power is: 10000000000000000000000\n",
      "remainder is: 10\n"
     ]
    }
   ],
   "source": [
    "#program1\n",
    "#Maths operators in python\n",
    "#taking two value\n",
    "a=10\n",
    "b=22\n",
    "#using sum operator \n",
    "print('sum is:',a+b)\n",
    "#using subract operator\n",
    "print('difference is:',a-b)\n",
    "#using multipication operator \n",
    "print('product is:',a*b)\n",
    "#using division operator\n",
    "print('division is:',a/b)\n",
    "#using integer division operator\n",
    "print('integer division is:',a//b)\n",
    "#using power operator\n",
    "print('raised to the power is:',a**b)\n",
    "#using modulo operator\n",
    "print('remainder is:',a%b)"
   ]
  },
  {
   "cell_type": "code",
   "execution_count": 3,
   "metadata": {},
   "outputs": [
    {
     "name": "stdout",
     "output_type": "stream",
     "text": [
      "8\n",
      "5\n",
      "15\n",
      "1.6666666666666667\n",
      "2\n",
      "1\n",
      "125\n",
      "1\n",
      "7\n",
      "6\n",
      "0\n",
      "40\n"
     ]
    }
   ],
   "source": [
    "#program2\n",
    "x=5\n",
    "x+=3\n",
    "print(x)\n",
    "X=5\n",
    "x-=3\n",
    "print(x)\n",
    "x=5\n",
    "x*=3\n",
    "print(x)\n",
    "x=5\n",
    "x/=3\n",
    "print(x)\n",
    "x=5\n",
    "x%=3\n",
    "print(x)\n",
    "x=5\n",
    "x//=3\n",
    "print(x)\n",
    "x=5\n",
    "x**=3\n",
    "print(x)\n",
    "x=5\n",
    "x&=3\n",
    "print(x)\n",
    "x=5\n",
    "x|=3\n",
    "print(x)\n",
    "x=5\n",
    "x^=3\n",
    "print(x)\n",
    "x=5\n",
    "x>>=3\n",
    "print(x)\n",
    "x=5\n",
    "x<<=3\n",
    "print(x)\n",
    "\n"
   ]
  },
  {
   "cell_type": "code",
   "execution_count": 4,
   "metadata": {},
   "outputs": [
    {
     "name": "stdout",
     "output_type": "stream",
     "text": [
      "X is equal to Y: False\n",
      "X is not equal to Y: True\n",
      "X is greater than Y: True\n",
      "X is less than Y: False\n",
      "X is greater than or equal to Y: True\n",
      "X is less than or equal to Y: False\n"
     ]
    }
   ],
   "source": [
    "#program3\n",
    "x=20\n",
    "y=15\n",
    "print(\"X is equal to Y:\",x==y)\n",
    "print(\"X is not equal to Y:\",x!=y)\n",
    "print(\"X is greater than Y:\",x>y)\n",
    "print(\"X is less than Y:\",x<y)\n",
    "print(\"X is greater than or equal to Y:\",x>=y)\n",
    "print(\"X is less than or equal to Y:\",x<=y)"
   ]
  },
  {
   "cell_type": "code",
   "execution_count": 5,
   "metadata": {},
   "outputs": [
    {
     "name": "stdout",
     "output_type": "stream",
     "text": [
      "True\n",
      "True\n",
      "False\n"
     ]
    }
   ],
   "source": [
    "#program4\n",
    "x=15\n",
    "print(x>13 and x<20)\n",
    "x=25\n",
    "print(x>23 or x<24)\n",
    "x=35\n",
    "print(not(x>33 and x<40))"
   ]
  },
  {
   "cell_type": "code",
   "execution_count": 6,
   "metadata": {},
   "outputs": [
    {
     "name": "stdout",
     "output_type": "stream",
     "text": [
      "True\n",
      "False\n",
      "True\n"
     ]
    }
   ],
   "source": [
    "#program5\n",
    "x=[\"ahmed\",\"bashir\"]\n",
    "y=[\"ahmed\",\"bashir\"]\n",
    "z=x\n",
    "print(x is z)\n",
    "print(x is y)\n",
    "print(x==y)"
   ]
  },
  {
   "cell_type": "code",
   "execution_count": 7,
   "metadata": {},
   "outputs": [
    {
     "name": "stdout",
     "output_type": "stream",
     "text": [
      "False\n",
      "True\n",
      "False\n"
     ]
    }
   ],
   "source": [
    "#program6\n",
    "x=[\"ahmed\",\"bashir\"]\n",
    "y=[\"ahmed\",\"bashir\"]\n",
    "z=x\n",
    "print(x is not z)\n",
    "print(x is not y)\n",
    "print(x != y )"
   ]
  },
  {
   "cell_type": "code",
   "execution_count": 8,
   "metadata": {},
   "outputs": [
    {
     "name": "stdout",
     "output_type": "stream",
     "text": [
      "True\n"
     ]
    }
   ],
   "source": [
    "#program7\n",
    "x = [\"wasim\",\"lubaid\",\"shahroz\",\"usman\",\"faisal\",\"farhan\"]\n",
    "print(\"faisal\" in x)"
   ]
  },
  {
   "cell_type": "code",
   "execution_count": 9,
   "metadata": {},
   "outputs": [
    {
     "name": "stdout",
     "output_type": "stream",
     "text": [
      "True\n"
     ]
    }
   ],
   "source": [
    "#program8\n",
    "x=[\"wasim\",\"lubaid\",\"shahroz\",\"usman\",\"faisal\",\"farhan\"]\n",
    "print(\"parkash\" not in x)"
   ]
  },
  {
   "cell_type": "code",
   "execution_count": 10,
   "metadata": {},
   "outputs": [
    {
     "name": "stdout",
     "output_type": "stream",
     "text": [
      "give me a velocity to fire at(in m/s):30\n",
      "give me an angle to fire at:24\n",
      "give me how far away you are from the structure:12\n",
      "give me the height of the structure(in meter):18\n",
      "finalvelocity is: 3.990221396493004m\\s\n",
      "angle is: 24.0rad\n",
      "distance is: 12.0m\n",
      "height is: 18.0m\n"
     ]
    }
   ],
   "source": [
    "# program9\n",
    "import math\n",
    "#user input\n",
    "velocity=float(input('give me a velocity to fire at(in m/s):'))\n",
    "angle=float(input('give me an angle to fire at:'))\n",
    "distance=float(input('give me how far away you are from the structure:'))\n",
    "height=float(input('give me the height of the structure(in meter):'))\n",
    "slingshot=5#height of slingshot in meters\n",
    "gravity=9.8#earth gravity\n",
    "#converting angle to radians \n",
    "angleRad=math.radians(angle)\n",
    "#computer our x and y coordinate\n",
    "x=math.cos(angleRad)\n",
    "y=math.sin(angleRad)\n",
    "#calculation \n",
    "time=distance/(velocity*x)\n",
    "vx=x\n",
    "vy=y+(-9.8*time)\n",
    "finalvelocity = math.sqrt((vx**2)+(vy**2))\n",
    "print(\"finalvelocity is:\", str(finalvelocity) + \"m\\s\")\n",
    "print(\"angle is:\",str(angle)+ \"rad\")\n",
    "print(\"distance is:\",str(distance)+ \"m\")\n",
    "print(\"height is:\",str(height)+ \"m\")"
   ]
  },
  {
   "cell_type": "code",
   "execution_count": null,
   "metadata": {},
   "outputs": [],
   "source": []
  }
 ],
 "metadata": {
  "kernelspec": {
   "display_name": "Python 3",
   "language": "python",
   "name": "python3"
  },
  "language_info": {
   "codemirror_mode": {
    "name": "ipython",
    "version": 3
   },
   "file_extension": ".py",
   "mimetype": "text/x-python",
   "name": "python",
   "nbconvert_exporter": "python",
   "pygments_lexer": "ipython3",
   "version": "3.6.4"
  }
 },
 "nbformat": 4,
 "nbformat_minor": 2
}
